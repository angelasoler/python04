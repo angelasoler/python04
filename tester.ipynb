{
 "cells": [
  {
   "cell_type": "code",
   "execution_count": 3,
   "metadata": {},
   "outputs": [
    {
     "data": {
      "text/plain": [
       "list"
      ]
     },
     "execution_count": 3,
     "metadata": {},
     "output_type": "execute_result"
    }
   ],
   "source": [
    "t = (3, 1, 4, 5, 2)\n",
    "l_sorted = sorted(t)\n",
    "t_sorted = tuple(l_sorted)\n",
    "type(l_sorted)\n",
    "# print(t_sorted)"
   ]
  },
  {
   "cell_type": "code",
   "execution_count": 24,
   "metadata": {},
   "outputs": [
    {
     "name": "stdout",
     "output_type": "stream",
     "text": [
      "<class 'list'>\n",
      "68.0\n",
      "84.0\n"
     ]
    }
   ],
   "source": [
    "l = [59, 60, 65, 65, 68, 69, 70, 72, 75, 75, 76, 77, 81, 82, 84, 87, 90, 95, 98]\n",
    "# l = sorted([1, 42, 360, 11, 64])\n",
    "# l = 2,4,6,8,10,12,14,16\n",
    "print(type(l))\n",
    "len_args = len(l)\n",
    "q1 = int(len_args * 0.25)\n",
    "q3 = int(len_args * 0.75)\n",
    "print(float(l[q1]))\n",
    "print(float(l[q3]))\n",
    "\n",
    "# https://www.investopedia.com/terms/q/quartile.asp"
   ]
  },
  {
   "cell_type": "code",
   "execution_count": 3,
   "metadata": {},
   "outputs": [
    {
     "data": {
      "text/plain": [
       "(np.float64(11.0), np.float64(64.0))"
      ]
     },
     "execution_count": 3,
     "metadata": {},
     "output_type": "execute_result"
    }
   ],
   "source": [
    "import numpy as np\n",
    "\n",
    "# data = [59, 60, 65, 65, 68, 69, 70, 72, 75, 75, 76, 77, 81, 82, 84, 87, 90, 95, 98]\n",
    "data = sorted([1, 42, 360, 11, 64])\n",
    "\n",
    "\n",
    "q1 = np.percentile(data, 25)  # Q1 (25th percentile)\n",
    "q3 = np.percentile(data, 75)  # Q3 (75th percentile)\n",
    "\n",
    "q1, q3"
   ]
  },
  {
   "cell_type": "code",
   "execution_count": 5,
   "metadata": {},
   "outputs": [],
   "source": [
    "def mean(args: tuple):\n",
    "    result = 0\n",
    "    for n in args:\n",
    "        result += n\n",
    "    return result/len(args)\n",
    "\n",
    "\n",
    "def median(args: tuple):\n",
    "    l_args = sorted(args)\n",
    "    a_len = len(l_args)\n",
    "    l_middle = int(a_len/2)\n",
    "    if a_len % 2 == 0:\n",
    "        return mean(l_args[l_middle] + l_args[l_middle - 1])\n",
    "    else:\n",
    "        return l_args[l_middle]\n",
    "\n",
    "\n",
    "def quartile(args: tuple):\n",
    "    l_args = sorted(args)\n",
    "    a_len = len(l_args)\n",
    "    q1 = int(a_len * 0.25)\n",
    "    q2 = int(a_len * 0.45)\n",
    "    return [float(l_args[q1]), float(l_args[q2])]\n",
    "\n",
    "\n",
    "def std(args: tuple):\n",
    "    lst = []\n",
    "    average = mean(args)\n",
    "    for n in args:\n",
    "        lst.append((n - average) ** 2)\n",
    "    return mean(lst) ** 0.5\n",
    "\n",
    "\n",
    "def var(args: tuple):\n",
    "    lst = []\n",
    "    average = mean(args)\n",
    "    for n in args:\n",
    "        lst.append((n - average) ** 2)\n",
    "    return mean(lst)\n"
   ]
  },
  {
   "cell_type": "code",
   "execution_count": 9,
   "metadata": {},
   "outputs": [
    {
     "data": {
      "text/plain": [
       "2.5"
      ]
     },
     "execution_count": 9,
     "metadata": {},
     "output_type": "execute_result"
    }
   ],
   "source": [
    "op = {\"mean\": mean, \"median\": median, \"quartile\": quartile, \"std\": std, \"var\": var}\n",
    "op[\"mean\"]((1,2,3,4))"
   ]
  },
  {
   "cell_type": "code",
   "execution_count": 7,
   "metadata": {},
   "outputs": [
    {
     "name": "stdout",
     "output_type": "stream",
     "text": [
      "Median is : 6\n",
      "Median is : 6\n"
     ]
    }
   ],
   "source": [
    "import statistics\n",
    "\n",
    "data1 = (2, 4, 6, 8, 10)\n",
    "result1 = statistics.median(data1)\n",
    "result2 = median(data1)\n",
    "print(\"Median is :\", result1)\n",
    "print(\"Median is :\", result2)\n"
   ]
  }
 ],
 "metadata": {
  "kernelspec": {
   "display_name": ".venv",
   "language": "python",
   "name": "python3"
  },
  "language_info": {
   "codemirror_mode": {
    "name": "ipython",
    "version": 3
   },
   "file_extension": ".py",
   "mimetype": "text/x-python",
   "name": "python",
   "nbconvert_exporter": "python",
   "pygments_lexer": "ipython3",
   "version": "3.10.16"
  }
 },
 "nbformat": 4,
 "nbformat_minor": 2
}
